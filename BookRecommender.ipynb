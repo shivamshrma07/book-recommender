{
  "nbformat": 4,
  "nbformat_minor": 0,
  "metadata": {
    "colab": {
      "name": "BookRecommender.ipynb",
      "provenance": [],
      "toc_visible": true
    },
    "kernelspec": {
      "name": "python3",
      "display_name": "Python 3"
    },
    "language_info": {
      "name": "python"
    },
    "accelerator": "GPU"
  },
  "cells": [
    {
      "cell_type": "markdown",
      "metadata": {
        "id": "jVauD2Dgp6Bj"
      },
      "source": [
        "# BOOK RECOMMENDER SYSTEM"
      ]
    },
    {
      "cell_type": "markdown",
      "metadata": {
        "id": "XQYAm6lKvnqz"
      },
      "source": [
        "This project is made under the lab work of Software Engineering Lab (CSD-327).<br/> \n",
        "In this project we have used the Collaborative Filtering Algorithm for recommending the top 10 books to the particular user depending upon the books , which that particular user had already reviewed."
      ]
    },
    {
      "cell_type": "markdown",
      "metadata": {
        "id": "9ge4UNuNvBMj"
      },
      "source": [
        "## To publish this project on web, we have used the Anvil Works. "
      ]
    },
    {
      "cell_type": "markdown",
      "metadata": {
        "id": "0b2scdkqrRQK"
      },
      "source": [
        "### So, firstly we will install the Anvil Uplink Library."
      ]
    },
    {
      "cell_type": "code",
      "metadata": {
        "colab": {
          "base_uri": "https://localhost:8080/",
          "height": 387
        },
        "id": "rQ9MXgETXd3Z",
        "outputId": "297b11d9-830f-4a4b-f52d-10448dc58646"
      },
      "source": [
        "pip install anvil-uplink"
      ],
      "execution_count": null,
      "outputs": [
        {
          "output_type": "stream",
          "text": [
            "Collecting anvil-uplink\n",
            "\u001b[?25l  Downloading https://files.pythonhosted.org/packages/9a/65/776713490bfd5145ddb87834355bf7936bd233b273098e37dc12f1ac253c/anvil_uplink-0.3.36-py2.py3-none-any.whl (61kB)\n",
            "\u001b[K     |████████████████████████████████| 61kB 3.3MB/s \n",
            "\u001b[?25hCollecting argparse\n",
            "  Downloading https://files.pythonhosted.org/packages/f2/94/3af39d34be01a24a6e65433d19e107099374224905f1e0cc6bbe1fd22a2f/argparse-1.4.0-py2.py3-none-any.whl\n",
            "Collecting ws4py\n",
            "\u001b[?25l  Downloading https://files.pythonhosted.org/packages/53/20/4019a739b2eefe9282d3822ef6a225250af964b117356971bd55e274193c/ws4py-0.5.1.tar.gz (51kB)\n",
            "\u001b[K     |████████████████████████████████| 61kB 7.0MB/s \n",
            "\u001b[?25hRequirement already satisfied: six in /usr/local/lib/python3.7/dist-packages (from anvil-uplink) (1.15.0)\n",
            "Requirement already satisfied: future in /usr/local/lib/python3.7/dist-packages (from anvil-uplink) (0.16.0)\n",
            "Building wheels for collected packages: ws4py\n",
            "  Building wheel for ws4py (setup.py) ... \u001b[?25l\u001b[?25hdone\n",
            "  Created wheel for ws4py: filename=ws4py-0.5.1-cp37-none-any.whl size=45216 sha256=6917db53e91c4b72018d60f7470af03a0b6db73393bc9346aa137e67f79e154a\n",
            "  Stored in directory: /root/.cache/pip/wheels/a2/6e/4e/8b0ae12fb9b8a05715256952cf7609a8ab86285fab99b88c68\n",
            "Successfully built ws4py\n",
            "Installing collected packages: argparse, ws4py, anvil-uplink\n",
            "Successfully installed anvil-uplink-0.3.36 argparse-1.4.0 ws4py-0.5.1\n"
          ],
          "name": "stdout"
        },
        {
          "output_type": "display_data",
          "data": {
            "application/vnd.colab-display-data+json": {
              "pip_warning": {
                "packages": [
                  "argparse",
                  "google"
                ]
              }
            }
          },
          "metadata": {
            "tags": []
          }
        }
      ]
    },
    {
      "cell_type": "markdown",
      "metadata": {
        "id": "dNsx1_8EsItK"
      },
      "source": [
        "### We will connect our Google Colaboratory with the Anvil Server by using the Uplink Key of our web application."
      ]
    },
    {
      "cell_type": "code",
      "metadata": {
        "colab": {
          "base_uri": "https://localhost:8080/"
        },
        "id": "Dgn4Iz0QXkPA",
        "outputId": "1eb10b7b-4e48-45b4-b835-65612b354565"
      },
      "source": [
        "import anvil.server\n",
        "anvil.server.connect(\"IKCBCGKEMUGTYT7PKD35GDWS-FXX7AGOTRWYZASHR\")"
      ],
      "execution_count": null,
      "outputs": [
        {
          "output_type": "stream",
          "text": [
            "Connecting to wss://anvil.works/uplink\n",
            "Anvil websocket open\n",
            "Connected to \"Default environment (dev)\" as SERVER\n"
          ],
          "name": "stdout"
        }
      ]
    },
    {
      "cell_type": "markdown",
      "metadata": {
        "id": "yczKCOZzsXn5"
      },
      "source": [
        "## Installing necessary python libraries."
      ]
    },
    {
      "cell_type": "code",
      "metadata": {
        "id": "LCdvDx07njEm"
      },
      "source": [
        "import numpy as np\n",
        "import pandas as pd\n",
        "import tensorflow as tf\n",
        "from sklearn.preprocessing import MinMaxScaler"
      ],
      "execution_count": null,
      "outputs": []
    },
    {
      "cell_type": "markdown",
      "metadata": {
        "id": "vch1-l2qunAK"
      },
      "source": [
        "### Changing directory."
      ]
    },
    {
      "cell_type": "code",
      "metadata": {
        "colab": {
          "base_uri": "https://localhost:8080/"
        },
        "id": "q-Hw364apiMX",
        "outputId": "2951cbfd-4bb5-47da-c3a5-da32732694d8"
      },
      "source": [
        "cd drive/MyDrive/"
      ],
      "execution_count": null,
      "outputs": [
        {
          "output_type": "stream",
          "text": [
            "/content/drive/MyDrive\n"
          ],
          "name": "stdout"
        }
      ]
    },
    {
      "cell_type": "markdown",
      "metadata": {
        "id": "7noWxE3Yuw7a"
      },
      "source": [
        "## Pre-processing of Data."
      ]
    },
    {
      "cell_type": "markdown",
      "metadata": {
        "id": "5H6f8Plly7Pc"
      },
      "source": [
        "Task is to make our data set ready to feed directly to the model."
      ]
    },
    {
      "cell_type": "markdown",
      "metadata": {
        "id": "UPTfdxQhu4o8"
      },
      "source": [
        "### Reading the .csv data files as dataframes."
      ]
    },
    {
      "cell_type": "markdown",
      "metadata": {
        "id": "n6YSoiqJv3Na"
      },
      "source": [
        "**Data Source** : http://www2.informatik.uni-freiburg.de/~cziegler/BX/ <br/>\n",
        "**BX-Book-Ratings.csv** : This file contain data, that how user have rated different books with given ISBN number.<br/>\n",
        "**BX-Users.csv** : This file contain data, about different User Ids of users.<br/>\n",
        "**Data/BX-Books.csv** : This file contain data, about information of books according to ISBN number."
      ]
    },
    {
      "cell_type": "code",
      "metadata": {
        "colab": {
          "base_uri": "https://localhost:8080/"
        },
        "id": "NJ3FiZITn-29",
        "outputId": "ec409c11-0429-426a-fb5a-febe0a8dabb3"
      },
      "source": [
        "rating = pd.read_csv('Data/BX-Book-Ratings.csv', sep=';', error_bad_lines=False, encoding=\"latin-1\")\n",
        "user = pd.read_csv('Data/BX-Users.csv', sep=';', error_bad_lines=False, encoding=\"latin-1\")\n",
        "book = pd.read_csv('Data/BX-Books.csv', sep=';', error_bad_lines=False, encoding=\"latin-1\")"
      ],
      "execution_count": null,
      "outputs": [
        {
          "output_type": "stream",
          "text": [
            "b'Skipping line 6452: expected 8 fields, saw 9\\nSkipping line 43667: expected 8 fields, saw 10\\nSkipping line 51751: expected 8 fields, saw 9\\n'\n",
            "b'Skipping line 92038: expected 8 fields, saw 9\\nSkipping line 104319: expected 8 fields, saw 9\\nSkipping line 121768: expected 8 fields, saw 9\\n'\n",
            "b'Skipping line 144058: expected 8 fields, saw 9\\nSkipping line 150789: expected 8 fields, saw 9\\nSkipping line 157128: expected 8 fields, saw 9\\nSkipping line 180189: expected 8 fields, saw 9\\nSkipping line 185738: expected 8 fields, saw 9\\n'\n",
            "b'Skipping line 209388: expected 8 fields, saw 9\\nSkipping line 220626: expected 8 fields, saw 9\\nSkipping line 227933: expected 8 fields, saw 11\\nSkipping line 228957: expected 8 fields, saw 10\\nSkipping line 245933: expected 8 fields, saw 9\\nSkipping line 251296: expected 8 fields, saw 9\\nSkipping line 259941: expected 8 fields, saw 9\\nSkipping line 261529: expected 8 fields, saw 9\\n'\n",
            "/usr/local/lib/python3.7/dist-packages/IPython/core/interactiveshell.py:2718: DtypeWarning: Columns (3) have mixed types.Specify dtype option on import or set low_memory=False.\n",
            "  interactivity=interactivity, compiler=compiler, result=result)\n"
          ],
          "name": "stderr"
        }
      ]
    },
    {
      "cell_type": "markdown",
      "metadata": {
        "id": "uQNvIw_fxp7D"
      },
      "source": [
        "### Merge book and rating data."
      ]
    },
    {
      "cell_type": "markdown",
      "metadata": {
        "id": "idT1W4a9x2za"
      },
      "source": [
        "We will merge book and rating data to get the rating of all books with the all the information of the given books. We will then clean the data by dropping the unnecessary data. Then we will, choose only the books, which will have more than 25 reviews."
      ]
    },
    {
      "cell_type": "markdown",
      "metadata": {
        "id": "RXIZYZQ5ykNi"
      },
      "source": [
        "#### Merging book and rating data."
      ]
    },
    {
      "cell_type": "code",
      "metadata": {
        "colab": {
          "base_uri": "https://localhost:8080/",
          "height": 484
        },
        "id": "-yGh5pMLp_HC",
        "outputId": "2f686339-4219-49b0-9a78-7d1ec72e64ab"
      },
      "source": [
        "book_rating = pd.merge(rating, book, on='ISBN')\n",
        "book_rating.head()"
      ],
      "execution_count": null,
      "outputs": [
        {
          "output_type": "execute_result",
          "data": {
            "text/html": [
              "<div>\n",
              "<style scoped>\n",
              "    .dataframe tbody tr th:only-of-type {\n",
              "        vertical-align: middle;\n",
              "    }\n",
              "\n",
              "    .dataframe tbody tr th {\n",
              "        vertical-align: top;\n",
              "    }\n",
              "\n",
              "    .dataframe thead th {\n",
              "        text-align: right;\n",
              "    }\n",
              "</style>\n",
              "<table border=\"1\" class=\"dataframe\">\n",
              "  <thead>\n",
              "    <tr style=\"text-align: right;\">\n",
              "      <th></th>\n",
              "      <th>User-ID</th>\n",
              "      <th>ISBN</th>\n",
              "      <th>Book-Rating</th>\n",
              "      <th>Book-Title</th>\n",
              "      <th>Book-Author</th>\n",
              "      <th>Year-Of-Publication</th>\n",
              "      <th>Publisher</th>\n",
              "      <th>Image-URL-S</th>\n",
              "      <th>Image-URL-M</th>\n",
              "      <th>Image-URL-L</th>\n",
              "    </tr>\n",
              "  </thead>\n",
              "  <tbody>\n",
              "    <tr>\n",
              "      <th>0</th>\n",
              "      <td>276725</td>\n",
              "      <td>034545104X</td>\n",
              "      <td>0</td>\n",
              "      <td>Flesh Tones: A Novel</td>\n",
              "      <td>M. J. Rose</td>\n",
              "      <td>2002</td>\n",
              "      <td>Ballantine Books</td>\n",
              "      <td>http://images.amazon.com/images/P/034545104X.0...</td>\n",
              "      <td>http://images.amazon.com/images/P/034545104X.0...</td>\n",
              "      <td>http://images.amazon.com/images/P/034545104X.0...</td>\n",
              "    </tr>\n",
              "    <tr>\n",
              "      <th>1</th>\n",
              "      <td>2313</td>\n",
              "      <td>034545104X</td>\n",
              "      <td>5</td>\n",
              "      <td>Flesh Tones: A Novel</td>\n",
              "      <td>M. J. Rose</td>\n",
              "      <td>2002</td>\n",
              "      <td>Ballantine Books</td>\n",
              "      <td>http://images.amazon.com/images/P/034545104X.0...</td>\n",
              "      <td>http://images.amazon.com/images/P/034545104X.0...</td>\n",
              "      <td>http://images.amazon.com/images/P/034545104X.0...</td>\n",
              "    </tr>\n",
              "    <tr>\n",
              "      <th>2</th>\n",
              "      <td>6543</td>\n",
              "      <td>034545104X</td>\n",
              "      <td>0</td>\n",
              "      <td>Flesh Tones: A Novel</td>\n",
              "      <td>M. J. Rose</td>\n",
              "      <td>2002</td>\n",
              "      <td>Ballantine Books</td>\n",
              "      <td>http://images.amazon.com/images/P/034545104X.0...</td>\n",
              "      <td>http://images.amazon.com/images/P/034545104X.0...</td>\n",
              "      <td>http://images.amazon.com/images/P/034545104X.0...</td>\n",
              "    </tr>\n",
              "    <tr>\n",
              "      <th>3</th>\n",
              "      <td>8680</td>\n",
              "      <td>034545104X</td>\n",
              "      <td>5</td>\n",
              "      <td>Flesh Tones: A Novel</td>\n",
              "      <td>M. J. Rose</td>\n",
              "      <td>2002</td>\n",
              "      <td>Ballantine Books</td>\n",
              "      <td>http://images.amazon.com/images/P/034545104X.0...</td>\n",
              "      <td>http://images.amazon.com/images/P/034545104X.0...</td>\n",
              "      <td>http://images.amazon.com/images/P/034545104X.0...</td>\n",
              "    </tr>\n",
              "    <tr>\n",
              "      <th>4</th>\n",
              "      <td>10314</td>\n",
              "      <td>034545104X</td>\n",
              "      <td>9</td>\n",
              "      <td>Flesh Tones: A Novel</td>\n",
              "      <td>M. J. Rose</td>\n",
              "      <td>2002</td>\n",
              "      <td>Ballantine Books</td>\n",
              "      <td>http://images.amazon.com/images/P/034545104X.0...</td>\n",
              "      <td>http://images.amazon.com/images/P/034545104X.0...</td>\n",
              "      <td>http://images.amazon.com/images/P/034545104X.0...</td>\n",
              "    </tr>\n",
              "  </tbody>\n",
              "</table>\n",
              "</div>"
            ],
            "text/plain": [
              "   User-ID  ...                                        Image-URL-L\n",
              "0   276725  ...  http://images.amazon.com/images/P/034545104X.0...\n",
              "1     2313  ...  http://images.amazon.com/images/P/034545104X.0...\n",
              "2     6543  ...  http://images.amazon.com/images/P/034545104X.0...\n",
              "3     8680  ...  http://images.amazon.com/images/P/034545104X.0...\n",
              "4    10314  ...  http://images.amazon.com/images/P/034545104X.0...\n",
              "\n",
              "[5 rows x 10 columns]"
            ]
          },
          "metadata": {
            "tags": []
          },
          "execution_count": 6
        }
      ]
    },
    {
      "cell_type": "markdown",
      "metadata": {
        "id": "2bPre6bQyd2C"
      },
      "source": [
        "#### Dropping unnecessary data."
      ]
    },
    {
      "cell_type": "code",
      "metadata": {
        "colab": {
          "base_uri": "https://localhost:8080/",
          "height": 195
        },
        "id": "C3jGcR08qGWm",
        "outputId": "f254a78a-20ae-4200-e946-43a151fdd612"
      },
      "source": [
        "cols = ['Year-Of-Publication', 'Publisher', 'Book-Author', 'Image-URL-S', 'Image-URL-M', 'Image-URL-L']\n",
        "book_rating.drop(cols, axis=1, inplace=True)\n",
        "book_rating.head()"
      ],
      "execution_count": null,
      "outputs": [
        {
          "output_type": "execute_result",
          "data": {
            "text/html": [
              "<div>\n",
              "<style scoped>\n",
              "    .dataframe tbody tr th:only-of-type {\n",
              "        vertical-align: middle;\n",
              "    }\n",
              "\n",
              "    .dataframe tbody tr th {\n",
              "        vertical-align: top;\n",
              "    }\n",
              "\n",
              "    .dataframe thead th {\n",
              "        text-align: right;\n",
              "    }\n",
              "</style>\n",
              "<table border=\"1\" class=\"dataframe\">\n",
              "  <thead>\n",
              "    <tr style=\"text-align: right;\">\n",
              "      <th></th>\n",
              "      <th>User-ID</th>\n",
              "      <th>ISBN</th>\n",
              "      <th>Book-Rating</th>\n",
              "      <th>Book-Title</th>\n",
              "    </tr>\n",
              "  </thead>\n",
              "  <tbody>\n",
              "    <tr>\n",
              "      <th>0</th>\n",
              "      <td>276725</td>\n",
              "      <td>034545104X</td>\n",
              "      <td>0</td>\n",
              "      <td>Flesh Tones: A Novel</td>\n",
              "    </tr>\n",
              "    <tr>\n",
              "      <th>1</th>\n",
              "      <td>2313</td>\n",
              "      <td>034545104X</td>\n",
              "      <td>5</td>\n",
              "      <td>Flesh Tones: A Novel</td>\n",
              "    </tr>\n",
              "    <tr>\n",
              "      <th>2</th>\n",
              "      <td>6543</td>\n",
              "      <td>034545104X</td>\n",
              "      <td>0</td>\n",
              "      <td>Flesh Tones: A Novel</td>\n",
              "    </tr>\n",
              "    <tr>\n",
              "      <th>3</th>\n",
              "      <td>8680</td>\n",
              "      <td>034545104X</td>\n",
              "      <td>5</td>\n",
              "      <td>Flesh Tones: A Novel</td>\n",
              "    </tr>\n",
              "    <tr>\n",
              "      <th>4</th>\n",
              "      <td>10314</td>\n",
              "      <td>034545104X</td>\n",
              "      <td>9</td>\n",
              "      <td>Flesh Tones: A Novel</td>\n",
              "    </tr>\n",
              "  </tbody>\n",
              "</table>\n",
              "</div>"
            ],
            "text/plain": [
              "   User-ID        ISBN  Book-Rating            Book-Title\n",
              "0   276725  034545104X            0  Flesh Tones: A Novel\n",
              "1     2313  034545104X            5  Flesh Tones: A Novel\n",
              "2     6543  034545104X            0  Flesh Tones: A Novel\n",
              "3     8680  034545104X            5  Flesh Tones: A Novel\n",
              "4    10314  034545104X            9  Flesh Tones: A Novel"
            ]
          },
          "metadata": {
            "tags": []
          },
          "execution_count": 7
        }
      ]
    },
    {
      "cell_type": "markdown",
      "metadata": {
        "id": "X-ib-N7_ytpL"
      },
      "source": [
        "#### We will count, which book title has got how many reviews."
      ]
    },
    {
      "cell_type": "code",
      "metadata": {
        "colab": {
          "base_uri": "https://localhost:8080/",
          "height": 195
        },
        "id": "FX1C-nAqqGhC",
        "outputId": "5bdb0076-53d9-40b3-ebae-df10f73ce9e6"
      },
      "source": [
        "rating_count = (book_rating.\n",
        "     groupby(by = ['Book-Title'])['Book-Rating'].\n",
        "     count().\n",
        "     reset_index().\n",
        "     rename(columns = {'Book-Rating': 'RatingCount_book'})\n",
        "     [['Book-Title', 'RatingCount_book']]\n",
        ")\n",
        "rating_count.head()"
      ],
      "execution_count": null,
      "outputs": [
        {
          "output_type": "execute_result",
          "data": {
            "text/html": [
              "<div>\n",
              "<style scoped>\n",
              "    .dataframe tbody tr th:only-of-type {\n",
              "        vertical-align: middle;\n",
              "    }\n",
              "\n",
              "    .dataframe tbody tr th {\n",
              "        vertical-align: top;\n",
              "    }\n",
              "\n",
              "    .dataframe thead th {\n",
              "        text-align: right;\n",
              "    }\n",
              "</style>\n",
              "<table border=\"1\" class=\"dataframe\">\n",
              "  <thead>\n",
              "    <tr style=\"text-align: right;\">\n",
              "      <th></th>\n",
              "      <th>Book-Title</th>\n",
              "      <th>RatingCount_book</th>\n",
              "    </tr>\n",
              "  </thead>\n",
              "  <tbody>\n",
              "    <tr>\n",
              "      <th>0</th>\n",
              "      <td>A Light in the Storm: The Civil War Diary of ...</td>\n",
              "      <td>4</td>\n",
              "    </tr>\n",
              "    <tr>\n",
              "      <th>1</th>\n",
              "      <td>Always Have Popsicles</td>\n",
              "      <td>1</td>\n",
              "    </tr>\n",
              "    <tr>\n",
              "      <th>2</th>\n",
              "      <td>Apple Magic (The Collector's series)</td>\n",
              "      <td>1</td>\n",
              "    </tr>\n",
              "    <tr>\n",
              "      <th>3</th>\n",
              "      <td>Ask Lily (Young Women of Faith: Lily Series, ...</td>\n",
              "      <td>1</td>\n",
              "    </tr>\n",
              "    <tr>\n",
              "      <th>4</th>\n",
              "      <td>Beyond IBM: Leadership Marketing and Finance ...</td>\n",
              "      <td>1</td>\n",
              "    </tr>\n",
              "  </tbody>\n",
              "</table>\n",
              "</div>"
            ],
            "text/plain": [
              "                                          Book-Title  RatingCount_book\n",
              "0   A Light in the Storm: The Civil War Diary of ...                 4\n",
              "1                              Always Have Popsicles                 1\n",
              "2               Apple Magic (The Collector's series)                 1\n",
              "3   Ask Lily (Young Women of Faith: Lily Series, ...                 1\n",
              "4   Beyond IBM: Leadership Marketing and Finance ...                 1"
            ]
          },
          "metadata": {
            "tags": []
          },
          "execution_count": 8
        }
      ]
    },
    {
      "cell_type": "markdown",
      "metadata": {
        "id": "fE8ud_S_zE1T"
      },
      "source": [
        "#### Choosing books which are rerviwed more than 25 times. This will help to get bettter result from the model."
      ]
    },
    {
      "cell_type": "code",
      "metadata": {
        "colab": {
          "base_uri": "https://localhost:8080/",
          "height": 195
        },
        "id": "KkHdcK8uqGrJ",
        "outputId": "27329b2b-ae3a-4857-ffd3-bf8fdbc6b7de"
      },
      "source": [
        "threshold = 25\n",
        "rating_count = rating_count.query('RatingCount_book >= @threshold')\n",
        "rating_count.head()"
      ],
      "execution_count": null,
      "outputs": [
        {
          "output_type": "execute_result",
          "data": {
            "text/html": [
              "<div>\n",
              "<style scoped>\n",
              "    .dataframe tbody tr th:only-of-type {\n",
              "        vertical-align: middle;\n",
              "    }\n",
              "\n",
              "    .dataframe tbody tr th {\n",
              "        vertical-align: top;\n",
              "    }\n",
              "\n",
              "    .dataframe thead th {\n",
              "        text-align: right;\n",
              "    }\n",
              "</style>\n",
              "<table border=\"1\" class=\"dataframe\">\n",
              "  <thead>\n",
              "    <tr style=\"text-align: right;\">\n",
              "      <th></th>\n",
              "      <th>Book-Title</th>\n",
              "      <th>RatingCount_book</th>\n",
              "    </tr>\n",
              "  </thead>\n",
              "  <tbody>\n",
              "    <tr>\n",
              "      <th>75</th>\n",
              "      <td>'Salem's Lot</td>\n",
              "      <td>47</td>\n",
              "    </tr>\n",
              "    <tr>\n",
              "      <th>203</th>\n",
              "      <td>10 Lb. Penalty</td>\n",
              "      <td>61</td>\n",
              "    </tr>\n",
              "    <tr>\n",
              "      <th>422</th>\n",
              "      <td>101 Dalmatians</td>\n",
              "      <td>37</td>\n",
              "    </tr>\n",
              "    <tr>\n",
              "      <th>673</th>\n",
              "      <td>14,000 Things to Be Happy About</td>\n",
              "      <td>28</td>\n",
              "    </tr>\n",
              "    <tr>\n",
              "      <th>697</th>\n",
              "      <td>16 Lighthouse Road</td>\n",
              "      <td>65</td>\n",
              "    </tr>\n",
              "  </tbody>\n",
              "</table>\n",
              "</div>"
            ],
            "text/plain": [
              "                          Book-Title  RatingCount_book\n",
              "75                      'Salem's Lot                47\n",
              "203                   10 Lb. Penalty                61\n",
              "422                   101 Dalmatians                37\n",
              "673  14,000 Things to Be Happy About                28\n",
              "697               16 Lighthouse Road                65"
            ]
          },
          "metadata": {
            "tags": []
          },
          "execution_count": 9
        }
      ]
    },
    {
      "cell_type": "markdown",
      "metadata": {
        "id": "P-lK99MozXfq"
      },
      "source": [
        "### Merging user data with how they have reviewed the books."
      ]
    },
    {
      "cell_type": "markdown",
      "metadata": {
        "id": "WieUcNKbzkzt"
      },
      "source": [
        "We will merge user data with how they have reviewed the books to get the rating of all books with respective users. Then we will, choose the data, in which user has rated at least 20 books."
      ]
    },
    {
      "cell_type": "markdown",
      "metadata": {
        "id": "QHCXU-AI0G0z"
      },
      "source": [
        "#### Merging data."
      ]
    },
    {
      "cell_type": "code",
      "metadata": {
        "colab": {
          "base_uri": "https://localhost:8080/",
          "height": 195
        },
        "id": "Chh1Hzh-qTKS",
        "outputId": "b1c4d6f6-df90-4c0e-e48f-3971be55e419"
      },
      "source": [
        "user_rating = pd.merge(rating_count, book_rating, left_on='Book-Title', right_on='Book-Title', how='left')\n",
        "user_rating.head()"
      ],
      "execution_count": null,
      "outputs": [
        {
          "output_type": "execute_result",
          "data": {
            "text/html": [
              "<div>\n",
              "<style scoped>\n",
              "    .dataframe tbody tr th:only-of-type {\n",
              "        vertical-align: middle;\n",
              "    }\n",
              "\n",
              "    .dataframe tbody tr th {\n",
              "        vertical-align: top;\n",
              "    }\n",
              "\n",
              "    .dataframe thead th {\n",
              "        text-align: right;\n",
              "    }\n",
              "</style>\n",
              "<table border=\"1\" class=\"dataframe\">\n",
              "  <thead>\n",
              "    <tr style=\"text-align: right;\">\n",
              "      <th></th>\n",
              "      <th>Book-Title</th>\n",
              "      <th>RatingCount_book</th>\n",
              "      <th>User-ID</th>\n",
              "      <th>ISBN</th>\n",
              "      <th>Book-Rating</th>\n",
              "    </tr>\n",
              "  </thead>\n",
              "  <tbody>\n",
              "    <tr>\n",
              "      <th>0</th>\n",
              "      <td>'Salem's Lot</td>\n",
              "      <td>47</td>\n",
              "      <td>8936</td>\n",
              "      <td>067103975X</td>\n",
              "      <td>0</td>\n",
              "    </tr>\n",
              "    <tr>\n",
              "      <th>1</th>\n",
              "      <td>'Salem's Lot</td>\n",
              "      <td>47</td>\n",
              "      <td>172245</td>\n",
              "      <td>067103975X</td>\n",
              "      <td>0</td>\n",
              "    </tr>\n",
              "    <tr>\n",
              "      <th>2</th>\n",
              "      <td>'Salem's Lot</td>\n",
              "      <td>47</td>\n",
              "      <td>189835</td>\n",
              "      <td>067103975X</td>\n",
              "      <td>5</td>\n",
              "    </tr>\n",
              "    <tr>\n",
              "      <th>3</th>\n",
              "      <td>'Salem's Lot</td>\n",
              "      <td>47</td>\n",
              "      <td>9226</td>\n",
              "      <td>0451168089</td>\n",
              "      <td>0</td>\n",
              "    </tr>\n",
              "    <tr>\n",
              "      <th>4</th>\n",
              "      <td>'Salem's Lot</td>\n",
              "      <td>47</td>\n",
              "      <td>33283</td>\n",
              "      <td>0451168089</td>\n",
              "      <td>10</td>\n",
              "    </tr>\n",
              "  </tbody>\n",
              "</table>\n",
              "</div>"
            ],
            "text/plain": [
              "     Book-Title  RatingCount_book  User-ID        ISBN  Book-Rating\n",
              "0  'Salem's Lot                47     8936  067103975X            0\n",
              "1  'Salem's Lot                47   172245  067103975X            0\n",
              "2  'Salem's Lot                47   189835  067103975X            5\n",
              "3  'Salem's Lot                47     9226  0451168089            0\n",
              "4  'Salem's Lot                47    33283  0451168089           10"
            ]
          },
          "metadata": {
            "tags": []
          },
          "execution_count": 10
        }
      ]
    },
    {
      "cell_type": "markdown",
      "metadata": {
        "id": "v7RUohmF0Odz"
      },
      "source": [
        "#### We will count how many time a user has reviewed the books."
      ]
    },
    {
      "cell_type": "code",
      "metadata": {
        "colab": {
          "base_uri": "https://localhost:8080/",
          "height": 195
        },
        "id": "5pGMb9vXqTTA",
        "outputId": "dcc3df63-5aba-4873-bf54-8db7d3e11ee4"
      },
      "source": [
        "user_count = (user_rating.\n",
        "     groupby(by = ['User-ID'])['Book-Rating'].\n",
        "     count().\n",
        "     reset_index().\n",
        "     rename(columns = {'Book-Rating': 'RatingCount_user'})\n",
        "     [['User-ID', 'RatingCount_user']]\n",
        ")\n",
        "user_count.head()"
      ],
      "execution_count": null,
      "outputs": [
        {
          "output_type": "execute_result",
          "data": {
            "text/html": [
              "<div>\n",
              "<style scoped>\n",
              "    .dataframe tbody tr th:only-of-type {\n",
              "        vertical-align: middle;\n",
              "    }\n",
              "\n",
              "    .dataframe tbody tr th {\n",
              "        vertical-align: top;\n",
              "    }\n",
              "\n",
              "    .dataframe thead th {\n",
              "        text-align: right;\n",
              "    }\n",
              "</style>\n",
              "<table border=\"1\" class=\"dataframe\">\n",
              "  <thead>\n",
              "    <tr style=\"text-align: right;\">\n",
              "      <th></th>\n",
              "      <th>User-ID</th>\n",
              "      <th>RatingCount_user</th>\n",
              "    </tr>\n",
              "  </thead>\n",
              "  <tbody>\n",
              "    <tr>\n",
              "      <th>0</th>\n",
              "      <td>8</td>\n",
              "      <td>2</td>\n",
              "    </tr>\n",
              "    <tr>\n",
              "      <th>1</th>\n",
              "      <td>9</td>\n",
              "      <td>2</td>\n",
              "    </tr>\n",
              "    <tr>\n",
              "      <th>2</th>\n",
              "      <td>10</td>\n",
              "      <td>1</td>\n",
              "    </tr>\n",
              "    <tr>\n",
              "      <th>3</th>\n",
              "      <td>14</td>\n",
              "      <td>1</td>\n",
              "    </tr>\n",
              "    <tr>\n",
              "      <th>4</th>\n",
              "      <td>16</td>\n",
              "      <td>2</td>\n",
              "    </tr>\n",
              "  </tbody>\n",
              "</table>\n",
              "</div>"
            ],
            "text/plain": [
              "   User-ID  RatingCount_user\n",
              "0        8                 2\n",
              "1        9                 2\n",
              "2       10                 1\n",
              "3       14                 1\n",
              "4       16                 2"
            ]
          },
          "metadata": {
            "tags": []
          },
          "execution_count": 11
        }
      ]
    },
    {
      "cell_type": "markdown",
      "metadata": {
        "id": "XMzUqEDt0ZYb"
      },
      "source": [
        "#### Choosing users who have reviewed more than 20 books."
      ]
    },
    {
      "cell_type": "code",
      "metadata": {
        "colab": {
          "base_uri": "https://localhost:8080/",
          "height": 195
        },
        "id": "L8VMnZdkqTXT",
        "outputId": "7f5cbe7e-0639-45d5-a4eb-089b0defb507"
      },
      "source": [
        "threshold = 20\n",
        "user_count = user_count.query('RatingCount_user >= @threshold')\n",
        "user_count.head()"
      ],
      "execution_count": null,
      "outputs": [
        {
          "output_type": "execute_result",
          "data": {
            "text/html": [
              "<div>\n",
              "<style scoped>\n",
              "    .dataframe tbody tr th:only-of-type {\n",
              "        vertical-align: middle;\n",
              "    }\n",
              "\n",
              "    .dataframe tbody tr th {\n",
              "        vertical-align: top;\n",
              "    }\n",
              "\n",
              "    .dataframe thead th {\n",
              "        text-align: right;\n",
              "    }\n",
              "</style>\n",
              "<table border=\"1\" class=\"dataframe\">\n",
              "  <thead>\n",
              "    <tr style=\"text-align: right;\">\n",
              "      <th></th>\n",
              "      <th>User-ID</th>\n",
              "      <th>RatingCount_user</th>\n",
              "    </tr>\n",
              "  </thead>\n",
              "  <tbody>\n",
              "    <tr>\n",
              "      <th>52</th>\n",
              "      <td>243</td>\n",
              "      <td>68</td>\n",
              "    </tr>\n",
              "    <tr>\n",
              "      <th>54</th>\n",
              "      <td>254</td>\n",
              "      <td>139</td>\n",
              "    </tr>\n",
              "    <tr>\n",
              "      <th>89</th>\n",
              "      <td>487</td>\n",
              "      <td>21</td>\n",
              "    </tr>\n",
              "    <tr>\n",
              "      <th>96</th>\n",
              "      <td>507</td>\n",
              "      <td>61</td>\n",
              "    </tr>\n",
              "    <tr>\n",
              "      <th>115</th>\n",
              "      <td>638</td>\n",
              "      <td>51</td>\n",
              "    </tr>\n",
              "  </tbody>\n",
              "</table>\n",
              "</div>"
            ],
            "text/plain": [
              "     User-ID  RatingCount_user\n",
              "52       243                68\n",
              "54       254               139\n",
              "89       487                21\n",
              "96       507                61\n",
              "115      638                51"
            ]
          },
          "metadata": {
            "tags": []
          },
          "execution_count": 12
        }
      ]
    },
    {
      "cell_type": "markdown",
      "metadata": {
        "id": "TXxL7CqH0ewa"
      },
      "source": [
        "### Combining the cleaned data to get the final data ready for the model."
      ]
    },
    {
      "cell_type": "code",
      "metadata": {
        "colab": {
          "base_uri": "https://localhost:8080/",
          "height": 229
        },
        "id": "F-7GsaVhqTa0",
        "outputId": "5de1ada7-72c9-4ccc-959b-2305f87a8186"
      },
      "source": [
        "combined = user_rating.merge(user_count, left_on = 'User-ID', right_on = 'User-ID', how = 'inner')\n",
        "print('Number of unique books: ', combined['Book-Title'].nunique())\n",
        "print('Number of unique users: ', combined['User-ID'].nunique())\n",
        "combined.head()"
      ],
      "execution_count": null,
      "outputs": [
        {
          "output_type": "stream",
          "text": [
            "Number of unique books:  5850\n",
            "Number of unique users:  3192\n"
          ],
          "name": "stdout"
        },
        {
          "output_type": "execute_result",
          "data": {
            "text/html": [
              "<div>\n",
              "<style scoped>\n",
              "    .dataframe tbody tr th:only-of-type {\n",
              "        vertical-align: middle;\n",
              "    }\n",
              "\n",
              "    .dataframe tbody tr th {\n",
              "        vertical-align: top;\n",
              "    }\n",
              "\n",
              "    .dataframe thead th {\n",
              "        text-align: right;\n",
              "    }\n",
              "</style>\n",
              "<table border=\"1\" class=\"dataframe\">\n",
              "  <thead>\n",
              "    <tr style=\"text-align: right;\">\n",
              "      <th></th>\n",
              "      <th>Book-Title</th>\n",
              "      <th>RatingCount_book</th>\n",
              "      <th>User-ID</th>\n",
              "      <th>ISBN</th>\n",
              "      <th>Book-Rating</th>\n",
              "      <th>RatingCount_user</th>\n",
              "    </tr>\n",
              "  </thead>\n",
              "  <tbody>\n",
              "    <tr>\n",
              "      <th>0</th>\n",
              "      <td>'Salem's Lot</td>\n",
              "      <td>47</td>\n",
              "      <td>8936</td>\n",
              "      <td>067103975X</td>\n",
              "      <td>0</td>\n",
              "      <td>177</td>\n",
              "    </tr>\n",
              "    <tr>\n",
              "      <th>1</th>\n",
              "      <td>1st to Die: A Novel</td>\n",
              "      <td>509</td>\n",
              "      <td>8936</td>\n",
              "      <td>0446610038</td>\n",
              "      <td>0</td>\n",
              "      <td>177</td>\n",
              "    </tr>\n",
              "    <tr>\n",
              "      <th>2</th>\n",
              "      <td>A Case of Need</td>\n",
              "      <td>236</td>\n",
              "      <td>8936</td>\n",
              "      <td>0451210638</td>\n",
              "      <td>0</td>\n",
              "      <td>177</td>\n",
              "    </tr>\n",
              "    <tr>\n",
              "      <th>3</th>\n",
              "      <td>A Perfect Stranger</td>\n",
              "      <td>54</td>\n",
              "      <td>8936</td>\n",
              "      <td>0440168724</td>\n",
              "      <td>0</td>\n",
              "      <td>177</td>\n",
              "    </tr>\n",
              "    <tr>\n",
              "      <th>4</th>\n",
              "      <td>Accident</td>\n",
              "      <td>126</td>\n",
              "      <td>8936</td>\n",
              "      <td>0440217547</td>\n",
              "      <td>0</td>\n",
              "      <td>177</td>\n",
              "    </tr>\n",
              "  </tbody>\n",
              "</table>\n",
              "</div>"
            ],
            "text/plain": [
              "            Book-Title  RatingCount_book  ...  Book-Rating RatingCount_user\n",
              "0         'Salem's Lot                47  ...            0              177\n",
              "1  1st to Die: A Novel               509  ...            0              177\n",
              "2       A Case of Need               236  ...            0              177\n",
              "3   A Perfect Stranger                54  ...            0              177\n",
              "4             Accident               126  ...            0              177\n",
              "\n",
              "[5 rows x 6 columns]"
            ]
          },
          "metadata": {
            "tags": []
          },
          "execution_count": 13
        }
      ]
    },
    {
      "cell_type": "markdown",
      "metadata": {
        "id": "q6O3440c0oSS"
      },
      "source": [
        "#### We will save a csv file of the final data, if we need it further."
      ]
    },
    {
      "cell_type": "code",
      "metadata": {
        "id": "_3reZi38jZQi"
      },
      "source": [
        "combined.to_csv(r'Data/combined.csv', index = False)"
      ],
      "execution_count": null,
      "outputs": []
    },
    {
      "cell_type": "markdown",
      "metadata": {
        "id": "b0SPPeEm1Ofy"
      },
      "source": [
        "#### We will normalize the rating feature, using MinMax scaler."
      ]
    },
    {
      "cell_type": "code",
      "metadata": {
        "colab": {
          "base_uri": "https://localhost:8080/",
          "height": 195
        },
        "id": "TSz5Zk_bqTe8",
        "outputId": "f7f98bcc-3668-449a-f13b-161bc451c55b"
      },
      "source": [
        "scaler = MinMaxScaler()\n",
        "combined['Book-Rating'] = combined['Book-Rating'].values.astype(float)\n",
        "rating_scaled = pd.DataFrame(scaler.fit_transform(combined['Book-Rating'].values.reshape(-1,1)))\n",
        "combined['Book-Rating'] = rating_scaled\n",
        "rating_scaled.head()"
      ],
      "execution_count": null,
      "outputs": [
        {
          "output_type": "execute_result",
          "data": {
            "text/html": [
              "<div>\n",
              "<style scoped>\n",
              "    .dataframe tbody tr th:only-of-type {\n",
              "        vertical-align: middle;\n",
              "    }\n",
              "\n",
              "    .dataframe tbody tr th {\n",
              "        vertical-align: top;\n",
              "    }\n",
              "\n",
              "    .dataframe thead th {\n",
              "        text-align: right;\n",
              "    }\n",
              "</style>\n",
              "<table border=\"1\" class=\"dataframe\">\n",
              "  <thead>\n",
              "    <tr style=\"text-align: right;\">\n",
              "      <th></th>\n",
              "      <th>0</th>\n",
              "    </tr>\n",
              "  </thead>\n",
              "  <tbody>\n",
              "    <tr>\n",
              "      <th>0</th>\n",
              "      <td>0.0</td>\n",
              "    </tr>\n",
              "    <tr>\n",
              "      <th>1</th>\n",
              "      <td>0.0</td>\n",
              "    </tr>\n",
              "    <tr>\n",
              "      <th>2</th>\n",
              "      <td>0.0</td>\n",
              "    </tr>\n",
              "    <tr>\n",
              "      <th>3</th>\n",
              "      <td>0.0</td>\n",
              "    </tr>\n",
              "    <tr>\n",
              "      <th>4</th>\n",
              "      <td>0.0</td>\n",
              "    </tr>\n",
              "  </tbody>\n",
              "</table>\n",
              "</div>"
            ],
            "text/plain": [
              "     0\n",
              "0  0.0\n",
              "1  0.0\n",
              "2  0.0\n",
              "3  0.0\n",
              "4  0.0"
            ]
          },
          "metadata": {
            "tags": []
          },
          "execution_count": 15
        }
      ]
    },
    {
      "cell_type": "markdown",
      "metadata": {
        "id": "vMEiB91p2FBb"
      },
      "source": [
        "#### We will drop the all duplicate values and will save all the data in a numpy array for use in model."
      ]
    },
    {
      "cell_type": "code",
      "metadata": {
        "id": "NqXLhZ7_rUCa"
      },
      "source": [
        "combined = combined.drop_duplicates(['User-ID', 'Book-Title'])\n",
        "user_book_matrix = combined.pivot(index='User-ID', columns='Book-Title', values='Book-Rating')\n",
        "user_book_matrix.fillna(0, inplace=True)\n",
        "users = user_book_matrix.index.tolist()\n",
        "books = user_book_matrix.columns.tolist()\n",
        "user_book_matrix = user_book_matrix.to_numpy()"
      ],
      "execution_count": null,
      "outputs": []
    },
    {
      "cell_type": "markdown",
      "metadata": {
        "id": "6aZt4FNk2X-b"
      },
      "source": [
        "## Creating the model."
      ]
    },
    {
      "cell_type": "markdown",
      "metadata": {
        "id": "YYcB9zA45tdb"
      },
      "source": [
        "### tf.placeholder is available in v1 so we will disable v2."
      ]
    },
    {
      "cell_type": "code",
      "metadata": {
        "colab": {
          "base_uri": "https://localhost:8080/"
        },
        "id": "TwzxnFkbrUF3",
        "outputId": "71ad7596-9744-4ea1-e76a-36fec462bae7"
      },
      "source": [
        "import tensorflow.compat.v1 as tf\n",
        "tf.disable_v2_behavior()"
      ],
      "execution_count": null,
      "outputs": [
        {
          "output_type": "stream",
          "text": [
            "WARNING:tensorflow:From /usr/local/lib/python3.7/dist-packages/tensorflow/python/compat/v2_compat.py:96: disable_resource_variables (from tensorflow.python.ops.variable_scope) is deprecated and will be removed in a future version.\n",
            "Instructions for updating:\n",
            "non-resource variables are not supported in the long term\n"
          ],
          "name": "stdout"
        }
      ]
    },
    {
      "cell_type": "markdown",
      "metadata": {
        "id": "_GKFYbce6ZCk"
      },
      "source": [
        "### Choose dimensions of hidden layers and initialize weight and bias vectors."
      ]
    },
    {
      "cell_type": "code",
      "metadata": {
        "id": "Tr72gSMXrUKB"
      },
      "source": [
        "num_input = combined['Book-Title'].nunique()\n",
        "num_hidden_1 = 10\n",
        "num_hidden_2 = 5\n",
        "\n",
        "X = tf.placeholder(tf.float64, [None, num_input])\n",
        "\n",
        "weights = {\n",
        "    'encoder_h1': tf.Variable(tf.random_normal([num_input, num_hidden_1], dtype=tf.float64)),\n",
        "    'encoder_h2': tf.Variable(tf.random_normal([num_hidden_1, num_hidden_2], dtype=tf.float64)),\n",
        "    'decoder_h1': tf.Variable(tf.random_normal([num_hidden_2, num_hidden_1], dtype=tf.float64)),\n",
        "    'decoder_h2': tf.Variable(tf.random_normal([num_hidden_1, num_input], dtype=tf.float64)),\n",
        "}\n",
        "\n",
        "biases = {\n",
        "    'encoder_b1': tf.Variable(tf.random_normal([num_hidden_1], dtype=tf.float64)),\n",
        "    'encoder_b2': tf.Variable(tf.random_normal([num_hidden_2], dtype=tf.float64)),\n",
        "    'decoder_b1': tf.Variable(tf.random_normal([num_hidden_1], dtype=tf.float64)),\n",
        "    'decoder_b2': tf.Variable(tf.random_normal([num_input], dtype=tf.float64)),\n",
        "}"
      ],
      "execution_count": null,
      "outputs": []
    },
    {
      "cell_type": "markdown",
      "metadata": {
        "id": "SqxUkYUl6t4E"
      },
      "source": [
        "### Defining the encoder and decoder model."
      ]
    },
    {
      "cell_type": "code",
      "metadata": {
        "id": "IswOPmWtrUNT"
      },
      "source": [
        "def encoder(x):\n",
        "    layer_1 = tf.nn.sigmoid(tf.add(tf.matmul(x, weights['encoder_h1']), biases['encoder_b1']))\n",
        "    layer_2 = tf.nn.sigmoid(tf.add(tf.matmul(layer_1, weights['encoder_h2']), biases['encoder_b2']))\n",
        "    return layer_2\n",
        "\n",
        "def decoder(x):\n",
        "    layer_1 = tf.nn.sigmoid(tf.add(tf.matmul(x, weights['decoder_h1']), biases['decoder_b1']))\n",
        "    layer_2 = tf.nn.sigmoid(tf.add(tf.matmul(layer_1, weights['decoder_h2']), biases['decoder_b2']))\n",
        "    return layer_2"
      ],
      "execution_count": null,
      "outputs": []
    },
    {
      "cell_type": "markdown",
      "metadata": {
        "id": "-DUXxONE67ye"
      },
      "source": [
        "### Constructing the model"
      ]
    },
    {
      "cell_type": "code",
      "metadata": {
        "id": "ekf6OrIerUQZ"
      },
      "source": [
        "encoder_op = encoder(X)\n",
        "decoder_op = decoder(encoder_op)\n",
        "y_pred = decoder_op\n",
        "y_true = X"
      ],
      "execution_count": null,
      "outputs": []
    },
    {
      "cell_type": "markdown",
      "metadata": {
        "id": "hOrlM7Tg7BNj"
      },
      "source": [
        "### Define Loss Function (Mean Squared) and Optimizer(RMS Prop) to minimize the squared error, and define the Evaluation Metrics."
      ]
    },
    {
      "cell_type": "code",
      "metadata": {
        "colab": {
          "base_uri": "https://localhost:8080/"
        },
        "id": "JPYp_AdHsMbD",
        "outputId": "f6b656d4-5029-4581-e3f3-a8a8585fba15"
      },
      "source": [
        "loss = tf.losses.mean_squared_error(y_true, y_pred)\n",
        "optimizer = tf.train.RMSPropOptimizer(0.03).minimize(loss)\n",
        "eval_x = tf.placeholder(tf.int32, )\n",
        "eval_y = tf.placeholder(tf.int32, )\n",
        "pre, pre_op = tf.metrics.precision(labels=eval_x, predictions=eval_y)"
      ],
      "execution_count": null,
      "outputs": [
        {
          "output_type": "stream",
          "text": [
            "WARNING:tensorflow:From /usr/local/lib/python3.7/dist-packages/tensorflow/python/training/rmsprop.py:123: calling Ones.__init__ (from tensorflow.python.ops.init_ops) with dtype is deprecated and will be removed in a future version.\n",
            "Instructions for updating:\n",
            "Call initializer instance with the dtype argument instead of passing it to the constructor\n"
          ],
          "name": "stdout"
        }
      ]
    },
    {
      "cell_type": "markdown",
      "metadata": {
        "id": "X39cw4cx75bs"
      },
      "source": [
        "### Initialize the variables, then create an empty data frame to store the result table,"
      ]
    },
    {
      "cell_type": "code",
      "metadata": {
        "id": "rZwGbLvosMeT"
      },
      "source": [
        "init = tf.global_variables_initializer()\n",
        "local_init = tf.local_variables_initializer()\n",
        "pred_data = pd.DataFrame()"
      ],
      "execution_count": null,
      "outputs": []
    },
    {
      "cell_type": "markdown",
      "metadata": {
        "id": "J13DRL8f8cjD"
      },
      "source": [
        "### Training the model."
      ]
    },
    {
      "cell_type": "markdown",
      "metadata": {
        "id": "ryujSsXm-rxU"
      },
      "source": [
        "Split training data into batches, and feed the network with them. <br/>\n",
        "Store outpu in data frame initialised above."
      ]
    },
    {
      "cell_type": "code",
      "metadata": {
        "colab": {
          "base_uri": "https://localhost:8080/"
        },
        "id": "hX5hK-xpsMij",
        "outputId": "29016e95-09db-4596-970e-fe35cecbd1fe"
      },
      "source": [
        "with tf.Session() as session:\n",
        "    epochs = 100\n",
        "    batch_size = 35\n",
        "    session.run(init)\n",
        "    session.run(local_init)\n",
        "    num_batches = int(user_book_matrix.shape[0] / batch_size)\n",
        "    user_book_matrix = np.array_split(user_book_matrix, num_batches)  \n",
        "    for i in range(epochs):\n",
        "        avg_cost = 0\n",
        "        for batch in user_book_matrix:\n",
        "            _, l = session.run([optimizer, loss], feed_dict={X: batch})\n",
        "            avg_cost += l\n",
        "        avg_cost /= num_batches\n",
        "        print(\"epoch: {} Loss: {}\".format(i + 1, avg_cost))\n",
        "    user_book_matrix = np.concatenate(user_book_matrix, axis=0)\n",
        "    preds = session.run(decoder_op, feed_dict={X: user_book_matrix})\n",
        "    pred_data = pred_data.append(pd.DataFrame(preds))"
      ],
      "execution_count": null,
      "outputs": [
        {
          "output_type": "stream",
          "text": [
            "epoch: 1 Loss: 0.3639434225611634\n",
            "epoch: 2 Loss: 0.29699674739942444\n",
            "epoch: 3 Loss: 0.06867655212121022\n",
            "epoch: 4 Loss: 0.004275028215168597\n",
            "epoch: 5 Loss: 0.0036841153991050445\n",
            "epoch: 6 Loss: 0.003619934022835978\n",
            "epoch: 7 Loss: 0.003564233858404415\n",
            "epoch: 8 Loss: 0.003409412610191074\n",
            "epoch: 9 Loss: 0.0033989241372302664\n",
            "epoch: 10 Loss: 0.0033915268953193674\n",
            "epoch: 11 Loss: 0.0033462174405640625\n",
            "epoch: 12 Loss: 0.003130413851557443\n",
            "epoch: 13 Loss: 0.003039404161397245\n",
            "epoch: 14 Loss: 0.003028823153607056\n",
            "epoch: 15 Loss: 0.00286489057451855\n",
            "epoch: 16 Loss: 0.0028619294599783454\n",
            "epoch: 17 Loss: 0.0028602686649249805\n",
            "epoch: 18 Loss: 0.0028587833525367326\n",
            "epoch: 19 Loss: 0.0028493811125652148\n",
            "epoch: 20 Loss: 0.0026901640972777545\n",
            "epoch: 21 Loss: 0.0026876374536736326\n",
            "epoch: 22 Loss: 0.002686761807046503\n",
            "epoch: 23 Loss: 0.0026860240562870115\n",
            "epoch: 24 Loss: 0.0026853690985692564\n",
            "epoch: 25 Loss: 0.002684779925742647\n",
            "epoch: 26 Loss: 0.0026842461115997897\n",
            "epoch: 27 Loss: 0.002683760055883245\n",
            "epoch: 28 Loss: 0.0026833156295182122\n",
            "epoch: 29 Loss: 0.002682907753726365\n",
            "epoch: 30 Loss: 0.002682532255466168\n",
            "epoch: 31 Loss: 0.0026821855258626435\n",
            "epoch: 32 Loss: 0.0026818644805494084\n",
            "epoch: 33 Loss: 0.002681566461163399\n",
            "epoch: 34 Loss: 0.002681289157308229\n",
            "epoch: 35 Loss: 0.0026810305963198724\n",
            "epoch: 36 Loss: 0.002680788939859677\n",
            "epoch: 37 Loss: 0.002680562712907136\n",
            "epoch: 38 Loss: 0.0026803504839375777\n",
            "epoch: 39 Loss: 0.00268015101076114\n",
            "epoch: 40 Loss: 0.0026799632827393138\n",
            "epoch: 41 Loss: 0.002679786250854914\n",
            "epoch: 42 Loss: 0.0026796190784527706\n",
            "epoch: 43 Loss: 0.0026794610580859277\n",
            "epoch: 44 Loss: 0.0026793114055500746\n",
            "epoch: 45 Loss: 0.0026791695055070814\n",
            "epoch: 46 Loss: 0.002679034800186835\n",
            "epoch: 47 Loss: 0.0026789067740357673\n",
            "epoch: 48 Loss: 0.0026787848692837652\n",
            "epoch: 49 Loss: 0.0026786688697309448\n",
            "epoch: 50 Loss: 0.002678558172832069\n",
            "epoch: 51 Loss: 0.002678452465161272\n",
            "epoch: 52 Loss: 0.0026783515062121736\n",
            "epoch: 53 Loss: 0.0026782549224323134\n",
            "epoch: 54 Loss: 0.002678162469477444\n",
            "epoch: 55 Loss: 0.002678073854390327\n",
            "epoch: 56 Loss: 0.0026779888827189965\n",
            "epoch: 57 Loss: 0.002677907281974842\n",
            "epoch: 58 Loss: 0.0026778289216703604\n",
            "epoch: 59 Loss: 0.002677753630380791\n",
            "epoch: 60 Loss: 0.0026776811688790448\n",
            "epoch: 61 Loss: 0.0026776114361012704\n",
            "epoch: 62 Loss: 0.0026775442120097167\n",
            "epoch: 63 Loss: 0.0026774794633428636\n",
            "epoch: 64 Loss: 0.002677416958549357\n",
            "epoch: 65 Loss: 0.0026773566515747825\n",
            "epoch: 66 Loss: 0.0026772984387967123\n",
            "epoch: 67 Loss: 0.0026772422025205344\n",
            "epoch: 68 Loss: 0.002677187780276514\n",
            "epoch: 69 Loss: 0.002677135188695412\n",
            "epoch: 70 Loss: 0.002677084284496831\n",
            "epoch: 71 Loss: 0.0026770349806891037\n",
            "epoch: 72 Loss: 0.002676987222262791\n",
            "epoch: 73 Loss: 0.002676940975956373\n",
            "epoch: 74 Loss: 0.0026768961087237676\n",
            "epoch: 75 Loss: 0.002676852578348429\n",
            "epoch: 76 Loss: 0.0026768104014611178\n",
            "epoch: 77 Loss: 0.002676769446295041\n",
            "epoch: 78 Loss: 0.002676729639930712\n",
            "epoch: 79 Loss: 0.0026766909798095514\n",
            "epoch: 80 Loss: 0.002676653436507907\n",
            "epoch: 81 Loss: 0.0026766168897725887\n",
            "epoch: 82 Loss: 0.0026765814329917123\n",
            "epoch: 83 Loss: 0.0026765469075334105\n",
            "epoch: 84 Loss: 0.00267651333642489\n",
            "epoch: 85 Loss: 0.0026764806646567127\n",
            "epoch: 86 Loss: 0.0026764489190939525\n",
            "epoch: 87 Loss: 0.0026764179602940825\n",
            "epoch: 88 Loss: 0.002676387879086638\n",
            "epoch: 89 Loss: 0.0026763585577770084\n",
            "epoch: 90 Loss: 0.002676329996365194\n",
            "epoch: 91 Loss: 0.0026763021667068313\n",
            "epoch: 92 Loss: 0.0026762750611261845\n",
            "epoch: 93 Loss: 0.002676248546577171\n",
            "epoch: 94 Loss: 0.002676222795763841\n",
            "epoch: 95 Loss: 0.002676197667964376\n",
            "epoch: 96 Loss: 0.002676173091538578\n",
            "epoch: 97 Loss: 0.0026761491099822816\n",
            "epoch: 98 Loss: 0.002676125692592545\n",
            "epoch: 99 Loss: 0.0026761027869185083\n",
            "epoch: 100 Loss: 0.0026760804338974284\n"
          ],
          "name": "stdout"
        }
      ]
    },
    {
      "cell_type": "markdown",
      "metadata": {
        "id": "U9i24-th_d8s"
      },
      "source": [
        "### Must remove the books from the data, which user has already reviewed."
      ]
    },
    {
      "cell_type": "code",
      "metadata": {
        "id": "pZzvbOVQsMmQ"
      },
      "source": [
        "pred_data = pred_data.stack().reset_index(name='Book-Rating')\n",
        "pred_data.columns = ['User-ID', 'Book-Title', 'Book-Rating']\n",
        "pred_data['User-ID'] = pred_data['User-ID'].map(lambda value: users[value])\n",
        "pred_data['Book-Title'] = pred_data['Book-Title'].map(lambda value: books[value])"
      ],
      "execution_count": null,
      "outputs": []
    },
    {
      "cell_type": "markdown",
      "metadata": {
        "id": "XPTyK8YF_k7U"
      },
      "source": [
        "### Define the function to get the Top 10 books for particular user."
      ]
    },
    {
      "cell_type": "code",
      "metadata": {
        "id": "c7xFICMfsMqI"
      },
      "source": [
        "keys = ['User-ID', 'Book-Title']\n",
        "index_1 = pred_data.set_index(keys).index\n",
        "index_2 = combined.set_index(keys).index\n",
        "top_ten_ranked = pred_data[~index_1.isin(index_2)]\n",
        "top_ten_ranked = top_ten_ranked.sort_values(['User-ID', 'Book-Rating'], ascending=[True, False])\n",
        "top_ten_ranked = top_ten_ranked.groupby('User-ID').head(10)"
      ],
      "execution_count": null,
      "outputs": []
    },
    {
      "cell_type": "markdown",
      "metadata": {
        "id": "nLfIvOE9_uFM"
      },
      "source": [
        "## Preparing functions for Anvil Server call, to be used in web application. "
      ]
    },
    {
      "cell_type": "markdown",
      "metadata": {
        "id": "Y1Y77aKh_9gE"
      },
      "source": [
        "### For getting Top 10 reommendations."
      ]
    },
    {
      "cell_type": "code",
      "metadata": {
        "id": "IvtHb_0-qBG0"
      },
      "source": [
        "@anvil.server.callable\n",
        "def result1(x) : \n",
        "  z = top_ten_ranked.loc[top_ten_ranked['User-ID'] == x]\n",
        "  a = z.drop([\"User-ID\",\"Book-Rating\"],axis =1)\n",
        "  b = a.to_numpy()\n",
        "  return b"
      ],
      "execution_count": null,
      "outputs": []
    },
    {
      "cell_type": "markdown",
      "metadata": {
        "id": "koJPtGh2AcV8"
      },
      "source": [
        "### For getting insight, user has reviewed which of the books."
      ]
    },
    {
      "cell_type": "code",
      "metadata": {
        "id": "e2GpElfGsMwd"
      },
      "source": [
        "@anvil.server.callable\n",
        "def result2(x) :\n",
        "  p = book_rating.loc[book_rating['User-ID'] == x].sort_values(by=['Book-Rating'], ascending=False)\n",
        "  q = p.drop([\"User-ID\",\"ISBN\"],axis =1)\n",
        "  r = q.to_numpy()\n",
        "  return r"
      ],
      "execution_count": null,
      "outputs": []
    },
    {
      "cell_type": "markdown",
      "metadata": {
        "id": "YS8xsQ_1AkUr"
      },
      "source": [
        "### Used to constanly use Google Colab for Web Application."
      ]
    },
    {
      "cell_type": "code",
      "metadata": {
        "id": "2eqmzVFnYE4k"
      },
      "source": [
        "anvil.server.wait_forever()"
      ],
      "execution_count": null,
      "outputs": []
    },
    {
      "cell_type": "markdown",
      "metadata": {
        "id": "1Cy1TD3uAsRE"
      },
      "source": [
        "## To get insight what is output of functions we are using."
      ]
    },
    {
      "cell_type": "markdown",
      "metadata": {
        "id": "BwpVVE0AA8Yc"
      },
      "source": [
        "### Top 10 recommendations."
      ]
    },
    {
      "cell_type": "code",
      "metadata": {
        "colab": {
          "base_uri": "https://localhost:8080/",
          "height": 343
        },
        "id": "xF-atCd8kcRR",
        "outputId": "60245a33-1248-41fd-9904-7cf041089e3e"
      },
      "source": [
        "top_ten_ranked.loc[top_ten_ranked['User-ID'] == 243]"
      ],
      "execution_count": null,
      "outputs": [
        {
          "output_type": "execute_result",
          "data": {
            "text/html": [
              "<div>\n",
              "<style scoped>\n",
              "    .dataframe tbody tr th:only-of-type {\n",
              "        vertical-align: middle;\n",
              "    }\n",
              "\n",
              "    .dataframe tbody tr th {\n",
              "        vertical-align: top;\n",
              "    }\n",
              "\n",
              "    .dataframe thead th {\n",
              "        text-align: right;\n",
              "    }\n",
              "</style>\n",
              "<table border=\"1\" class=\"dataframe\">\n",
              "  <thead>\n",
              "    <tr style=\"text-align: right;\">\n",
              "      <th></th>\n",
              "      <th>User-ID</th>\n",
              "      <th>Book-Title</th>\n",
              "      <th>Book-Rating</th>\n",
              "    </tr>\n",
              "  </thead>\n",
              "  <tbody>\n",
              "    <tr>\n",
              "      <th>4302</th>\n",
              "      <td>243</td>\n",
              "      <td>The Da Vinci Code</td>\n",
              "      <td>0.061805</td>\n",
              "    </tr>\n",
              "    <tr>\n",
              "      <th>5060</th>\n",
              "      <td>243</td>\n",
              "      <td>The Secret Life of Bees</td>\n",
              "      <td>0.047085</td>\n",
              "    </tr>\n",
              "    <tr>\n",
              "      <th>1837</th>\n",
              "      <td>243</td>\n",
              "      <td>Harry Potter and the Chamber of Secrets (Book 2)</td>\n",
              "      <td>0.045396</td>\n",
              "    </tr>\n",
              "    <tr>\n",
              "      <th>1841</th>\n",
              "      <td>243</td>\n",
              "      <td>Harry Potter and the Prisoner of Azkaban (Book 3)</td>\n",
              "      <td>0.043794</td>\n",
              "    </tr>\n",
              "    <tr>\n",
              "      <th>702</th>\n",
              "      <td>243</td>\n",
              "      <td>Bridget Jones's Diary</td>\n",
              "      <td>0.042827</td>\n",
              "    </tr>\n",
              "    <tr>\n",
              "      <th>2406</th>\n",
              "      <td>243</td>\n",
              "      <td>Life of Pi</td>\n",
              "      <td>0.041292</td>\n",
              "    </tr>\n",
              "    <tr>\n",
              "      <th>1843</th>\n",
              "      <td>243</td>\n",
              "      <td>Harry Potter and the Sorcerer's Stone (Harry P...</td>\n",
              "      <td>0.038947</td>\n",
              "    </tr>\n",
              "    <tr>\n",
              "      <th>4984</th>\n",
              "      <td>243</td>\n",
              "      <td>The Red Tent (Bestselling Backlist)</td>\n",
              "      <td>0.038819</td>\n",
              "    </tr>\n",
              "    <tr>\n",
              "      <th>5401</th>\n",
              "      <td>243</td>\n",
              "      <td>To Kill a Mockingbird</td>\n",
              "      <td>0.037897</td>\n",
              "    </tr>\n",
              "    <tr>\n",
              "      <th>1839</th>\n",
              "      <td>243</td>\n",
              "      <td>Harry Potter and the Goblet of Fire (Book 4)</td>\n",
              "      <td>0.037194</td>\n",
              "    </tr>\n",
              "  </tbody>\n",
              "</table>\n",
              "</div>"
            ],
            "text/plain": [
              "      User-ID                                         Book-Title  Book-Rating\n",
              "4302      243                                  The Da Vinci Code     0.061805\n",
              "5060      243                            The Secret Life of Bees     0.047085\n",
              "1837      243   Harry Potter and the Chamber of Secrets (Book 2)     0.045396\n",
              "1841      243  Harry Potter and the Prisoner of Azkaban (Book 3)     0.043794\n",
              "702       243                              Bridget Jones's Diary     0.042827\n",
              "2406      243                                         Life of Pi     0.041292\n",
              "1843      243  Harry Potter and the Sorcerer's Stone (Harry P...     0.038947\n",
              "4984      243                The Red Tent (Bestselling Backlist)     0.038819\n",
              "5401      243                              To Kill a Mockingbird     0.037897\n",
              "1839      243       Harry Potter and the Goblet of Fire (Book 4)     0.037194"
            ]
          },
          "metadata": {
            "tags": []
          },
          "execution_count": 29
        }
      ]
    },
    {
      "cell_type": "markdown",
      "metadata": {
        "id": "U-R5KOLaBAjc"
      },
      "source": [
        "### Books reviewed by user."
      ]
    },
    {
      "cell_type": "code",
      "metadata": {
        "colab": {
          "base_uri": "https://localhost:8080/",
          "height": 402
        },
        "id": "6WAqW5RgkcAs",
        "outputId": "8255ccb1-8e00-4d25-ab43-bb1af06c9d64"
      },
      "source": [
        "book_rating.loc[book_rating['User-ID'] == 243].sort_values(by=['Book-Rating'], ascending=False)"
      ],
      "execution_count": null,
      "outputs": [
        {
          "output_type": "execute_result",
          "data": {
            "text/html": [
              "<div>\n",
              "<style scoped>\n",
              "    .dataframe tbody tr th:only-of-type {\n",
              "        vertical-align: middle;\n",
              "    }\n",
              "\n",
              "    .dataframe tbody tr th {\n",
              "        vertical-align: top;\n",
              "    }\n",
              "\n",
              "    .dataframe thead th {\n",
              "        text-align: right;\n",
              "    }\n",
              "</style>\n",
              "<table border=\"1\" class=\"dataframe\">\n",
              "  <thead>\n",
              "    <tr style=\"text-align: right;\">\n",
              "      <th></th>\n",
              "      <th>User-ID</th>\n",
              "      <th>ISBN</th>\n",
              "      <th>Book-Rating</th>\n",
              "      <th>Book-Title</th>\n",
              "    </tr>\n",
              "  </thead>\n",
              "  <tbody>\n",
              "    <tr>\n",
              "      <th>96475</th>\n",
              "      <td>243</td>\n",
              "      <td>0375400117</td>\n",
              "      <td>10</td>\n",
              "      <td>Memoirs of a Geisha</td>\n",
              "    </tr>\n",
              "    <tr>\n",
              "      <th>90540</th>\n",
              "      <td>243</td>\n",
              "      <td>0060915544</td>\n",
              "      <td>10</td>\n",
              "      <td>The Bean Trees</td>\n",
              "    </tr>\n",
              "    <tr>\n",
              "      <th>150644</th>\n",
              "      <td>243</td>\n",
              "      <td>0446364800</td>\n",
              "      <td>9</td>\n",
              "      <td>The General's Daughter</td>\n",
              "    </tr>\n",
              "    <tr>\n",
              "      <th>189970</th>\n",
              "      <td>243</td>\n",
              "      <td>0425163407</td>\n",
              "      <td>9</td>\n",
              "      <td>Unnatural Exposure</td>\n",
              "    </tr>\n",
              "    <tr>\n",
              "      <th>48114</th>\n",
              "      <td>243</td>\n",
              "      <td>0316776963</td>\n",
              "      <td>9</td>\n",
              "      <td>Me Talk Pretty One Day</td>\n",
              "    </tr>\n",
              "    <tr>\n",
              "      <th>...</th>\n",
              "      <td>...</td>\n",
              "      <td>...</td>\n",
              "      <td>...</td>\n",
              "      <td>...</td>\n",
              "    </tr>\n",
              "    <tr>\n",
              "      <th>188830</th>\n",
              "      <td>243</td>\n",
              "      <td>0312169787</td>\n",
              "      <td>0</td>\n",
              "      <td>The Red Tent : A Novel</td>\n",
              "    </tr>\n",
              "    <tr>\n",
              "      <th>188859</th>\n",
              "      <td>243</td>\n",
              "      <td>0312872682</td>\n",
              "      <td>0</td>\n",
              "      <td>The James Dean Affair: A Neil Gulliver &amp;amp; S...</td>\n",
              "    </tr>\n",
              "    <tr>\n",
              "      <th>188865</th>\n",
              "      <td>243</td>\n",
              "      <td>0316602906</td>\n",
              "      <td>0</td>\n",
              "      <td>The Big Bad Wolf: A Novel</td>\n",
              "    </tr>\n",
              "    <tr>\n",
              "      <th>188985</th>\n",
              "      <td>243</td>\n",
              "      <td>0316693006</td>\n",
              "      <td>0</td>\n",
              "      <td>Four Blind Mice</td>\n",
              "    </tr>\n",
              "    <tr>\n",
              "      <th>191370</th>\n",
              "      <td>243</td>\n",
              "      <td>0804117934</td>\n",
              "      <td>0</td>\n",
              "      <td>The Silent Cry (William Monk Novels (Paperback))</td>\n",
              "    </tr>\n",
              "  </tbody>\n",
              "</table>\n",
              "<p>79 rows × 4 columns</p>\n",
              "</div>"
            ],
            "text/plain": [
              "        User-ID  ...                                         Book-Title\n",
              "96475       243  ...                                Memoirs of a Geisha\n",
              "90540       243  ...                                     The Bean Trees\n",
              "150644      243  ...                             The General's Daughter\n",
              "189970      243  ...                                 Unnatural Exposure\n",
              "48114       243  ...                             Me Talk Pretty One Day\n",
              "...         ...  ...                                                ...\n",
              "188830      243  ...                             The Red Tent : A Novel\n",
              "188859      243  ...  The James Dean Affair: A Neil Gulliver &amp; S...\n",
              "188865      243  ...                          The Big Bad Wolf: A Novel\n",
              "188985      243  ...                                    Four Blind Mice\n",
              "191370      243  ...   The Silent Cry (William Monk Novels (Paperback))\n",
              "\n",
              "[79 rows x 4 columns]"
            ]
          },
          "metadata": {
            "tags": []
          },
          "execution_count": 30
        }
      ]
    }
  ]
}